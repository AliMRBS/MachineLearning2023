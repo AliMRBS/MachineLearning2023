{
  "nbformat": 4,
  "nbformat_minor": 0,
  "metadata": {
    "colab": {
      "provenance": [],
      "authorship_tag": "ABX9TyN69Pmc87DOZyBgPEBrIoDQ",
      "include_colab_link": true
    },
    "kernelspec": {
      "name": "python3",
      "display_name": "Python 3"
    },
    "language_info": {
      "name": "python"
    }
  },
  "cells": [
    {
      "cell_type": "markdown",
      "metadata": {
        "id": "view-in-github",
        "colab_type": "text"
      },
      "source": [
        "<a href=\"https://colab.research.google.com/github/AliMRBS/MachineLearning2023/blob/main/Chapter1/HW1-1/HW1_1_9825813_Mirabbasi.ipynb\" target=\"_parent\"><img src=\"https://colab.research.google.com/assets/colab-badge.svg\" alt=\"Open In Colab\"/></a>"
      ]
    },
    {
      "cell_type": "markdown",
      "source": [
        "Q1"
      ],
      "metadata": {
        "id": "1kxfx8oHbiQT"
      }
    },
    {
      "cell_type": "code",
      "source": [
        "x = int(input(\"Enter your age: \"))\n",
        "if x >= 18:\n",
        "  print(\"You are an adult.\")\n",
        "else:\n",
        "  print(\"You are a minor.\")\n"
      ],
      "metadata": {
        "colab": {
          "base_uri": "https://localhost:8080/"
        },
        "id": "GeHZXyU0bnLV",
        "outputId": "e1053272-4b30-45b8-f34a-91cce3af1334"
      },
      "execution_count": null,
      "outputs": [
        {
          "output_type": "stream",
          "name": "stdout",
          "text": [
            "Enter your age: 14\n",
            "You are a minor.\n"
          ]
        }
      ]
    },
    {
      "cell_type": "markdown",
      "source": [
        "Q2"
      ],
      "metadata": {
        "id": "NqChMGRodCP8"
      }
    },
    {
      "cell_type": "code",
      "source": [
        "for i in range (1,11):\n",
        "  print(i)"
      ],
      "metadata": {
        "colab": {
          "base_uri": "https://localhost:8080/"
        },
        "id": "T9WsDQ5fdDaM",
        "outputId": "38d6c858-536b-410f-d02e-d23b061dd208"
      },
      "execution_count": null,
      "outputs": [
        {
          "output_type": "stream",
          "name": "stdout",
          "text": [
            "1\n",
            "2\n",
            "3\n",
            "4\n",
            "5\n",
            "6\n",
            "7\n",
            "8\n",
            "9\n",
            "10\n"
          ]
        }
      ]
    },
    {
      "cell_type": "markdown",
      "source": [
        "Q3\n"
      ],
      "metadata": {
        "id": "edT1_yUGdSDL"
      }
    },
    {
      "cell_type": "code",
      "source": [
        "a = 1\n",
        "sum = 0\n",
        "while a<=20:\n",
        "  if a%2 == 0:\n",
        "    sum += a\n",
        "  a += 1\n",
        "print(\"Sum of even numbers from 1 to 20:\", sum)"
      ],
      "metadata": {
        "colab": {
          "base_uri": "https://localhost:8080/"
        },
        "id": "0fTub115dTQ7",
        "outputId": "224c6d28-4e30-449d-eac8-e893f9a02169"
      },
      "execution_count": null,
      "outputs": [
        {
          "output_type": "stream",
          "name": "stdout",
          "text": [
            "Sum of even numbers from 1 to 20: 110\n"
          ]
        }
      ]
    },
    {
      "cell_type": "markdown",
      "source": [
        "Q4"
      ],
      "metadata": {
        "id": "D9pV_pV5exq9"
      }
    },
    {
      "cell_type": "code",
      "source": [
        "def multiply(x,y):\n",
        "  return x*y\n"
      ],
      "metadata": {
        "id": "aDHCbMkoezia"
      },
      "execution_count": null,
      "outputs": []
    },
    {
      "cell_type": "markdown",
      "source": [
        "Q5"
      ],
      "metadata": {
        "id": "iwZAhL6qfT8r"
      }
    },
    {
      "cell_type": "code",
      "source": [
        "class Person:\n",
        "  def __init__(self, name, age):\n",
        "    self.name = name\n",
        "    self.age = age\n",
        "\n",
        "Person1 = Person(\"Ali\", 23)\n",
        "print(\"name: \",Person1.name)\n",
        "print(\"age: \",Person1.age)\n",
        "\n"
      ],
      "metadata": {
        "colab": {
          "base_uri": "https://localhost:8080/"
        },
        "id": "CtOA1_bhfU4j",
        "outputId": "52e8b5f3-ea58-441c-e734-2fdb847f5cfe"
      },
      "execution_count": null,
      "outputs": [
        {
          "output_type": "stream",
          "name": "stdout",
          "text": [
            "name:  Ali\n",
            "age:  23\n"
          ]
        }
      ]
    },
    {
      "cell_type": "markdown",
      "source": [
        "Q6"
      ],
      "metadata": {
        "id": "XAL9PnHrgN50"
      }
    },
    {
      "cell_type": "code",
      "source": [
        "class Person:\n",
        "  def __init__(self, name, age):\n",
        "    self.name = name\n",
        "    self.age = age\n",
        "\n",
        "class Student(Person):\n",
        "   def __init__(self, name, age, student_id):\n",
        "      super().__init__(name, age)\n",
        "      self.student_id = student_id\n",
        "\n",
        "Student1 = Student(\"Ali\", 23, 9825813)\n",
        "print(\"name: \",Student1.name)\n",
        "print(\"age: \",Student1.age)\n",
        "print(\"studen id :\", Student1.student_id)"
      ],
      "metadata": {
        "colab": {
          "base_uri": "https://localhost:8080/"
        },
        "id": "xhRTVjLKgO3L",
        "outputId": "4df95412-fa19-4692-eaa4-5cf8037fcfcd"
      },
      "execution_count": null,
      "outputs": [
        {
          "output_type": "stream",
          "name": "stdout",
          "text": [
            "name:  Ali\n",
            "age:  23\n",
            "studen id : 9825813\n"
          ]
        }
      ]
    },
    {
      "cell_type": "markdown",
      "source": [
        "Q7"
      ],
      "metadata": {
        "id": "U3nV11cjh02c"
      }
    },
    {
      "cell_type": "code",
      "source": [
        "num = int(input(\"Enter a number: \"))\n",
        "def is_prime(num):\n",
        "  if num<= 1:\n",
        "    return False\n",
        "  for i in range(2,num+1):\n",
        "    if num % i == 0:\n",
        "      return False\n",
        "    else:\n",
        "      return True\n",
        "\n",
        "if is_prime(num):\n",
        "   print(num, \"is a prime number.\")\n",
        "else:\n",
        "  print(num, \"is not a prime number.\")\n"
      ],
      "metadata": {
        "colab": {
          "base_uri": "https://localhost:8080/"
        },
        "id": "lguPSCN6h2Ak",
        "outputId": "e8854a14-ad40-40c7-a4df-e84eed13ff85"
      },
      "execution_count": null,
      "outputs": [
        {
          "output_type": "stream",
          "name": "stdout",
          "text": [
            "Enter a number: 5\n",
            "5 is a prime number.\n"
          ]
        }
      ]
    },
    {
      "cell_type": "markdown",
      "source": [
        "Q8"
      ],
      "metadata": {
        "id": "tBy3DSynla-E"
      }
    },
    {
      "cell_type": "code",
      "source": [
        "num = int(input(\"Enter a number: \"))\n",
        "def Factorial(x):\n",
        "  if x == 0:\n",
        "    return 1\n",
        "  else:\n",
        "    return x * Factorial(x-1)\n",
        "res = Factorial(num)\n",
        "\n",
        "print(\"Facrotial of \", num, \" is \", res)"
      ],
      "metadata": {
        "colab": {
          "base_uri": "https://localhost:8080/"
        },
        "id": "LCrKBXUUlb7c",
        "outputId": "32bae393-c5e6-415c-afbe-e7d7b3311a30"
      },
      "execution_count": null,
      "outputs": [
        {
          "output_type": "stream",
          "name": "stdout",
          "text": [
            "Enter a number: 10\n",
            "Facrotial of  10  is  3628800\n"
          ]
        }
      ]
    },
    {
      "cell_type": "markdown",
      "source": [
        "Q9"
      ],
      "metadata": {
        "id": "hPpeqDwtmphE"
      }
    },
    {
      "cell_type": "code",
      "source": [
        "class Rectangle:\n",
        "  def __init__(self, width, height):\n",
        "    self.width = width\n",
        "    self.height = height\n",
        "  def calculate_area(self):\n",
        "    return self.width * self.height\n",
        "\n",
        "\n",
        "Rectangle1 = Rectangle(3,4)\n",
        "area = Rectangle1.calculate_area()\n",
        "print(\"Perimeter of the square: \", area)\n"
      ],
      "metadata": {
        "colab": {
          "base_uri": "https://localhost:8080/"
        },
        "id": "OlfgEJ8Amqht",
        "outputId": "a9eae40e-69c5-4cce-ac80-90a5b37d96b2"
      },
      "execution_count": null,
      "outputs": [
        {
          "output_type": "stream",
          "name": "stdout",
          "text": [
            "Perimeter of the square:  12\n"
          ]
        }
      ]
    },
    {
      "cell_type": "markdown",
      "source": [
        "Q10"
      ],
      "metadata": {
        "id": "s1Iz3wPgn3bt"
      }
    },
    {
      "cell_type": "code",
      "source": [
        "class Rectangle:\n",
        "  def __init__(self, width, height):\n",
        "    self.width = width\n",
        "    self.height = height\n",
        "  def calculate_area(self):\n",
        "    return self.width * self.height\n",
        "\n",
        "class square(Rectangle):\n",
        "  def __init__(self, length):\n",
        "     super().__init__(length, length)\n",
        "\n",
        "  def calculate_perimeter(self):\n",
        "        return 4 * self.height\n",
        "\n",
        "square1 = square(3)\n",
        "perimeter = square1.calculate_perimeter()\n",
        "print(\"Perimeter of the square:\", perimeter)"
      ],
      "metadata": {
        "colab": {
          "base_uri": "https://localhost:8080/"
        },
        "id": "IWeDGmE_n4cV",
        "outputId": "f6d36954-295d-40b4-9ec4-42c8f3a1faf1"
      },
      "execution_count": null,
      "outputs": [
        {
          "output_type": "stream",
          "name": "stdout",
          "text": [
            "Perimeter of the square: 12\n"
          ]
        }
      ]
    },
    {
      "cell_type": "markdown",
      "source": [
        "Q11"
      ],
      "metadata": {
        "id": "zgQzSvKKpR-8"
      }
    },
    {
      "cell_type": "code",
      "source": [
        "class Animal:\n",
        "  def __init__(self, name, species):\n",
        "    self.name = name\n",
        "    self.species = species\n",
        "\n",
        "    def speak(self):\n",
        "      print(f\"{self.name} the {self.species} make a sound.\")"
      ],
      "metadata": {
        "id": "15X80KfzpS_F"
      },
      "execution_count": null,
      "outputs": []
    },
    {
      "cell_type": "markdown",
      "source": [
        "Q12"
      ],
      "metadata": {
        "id": "90D_tsBEsexF"
      }
    },
    {
      "cell_type": "code",
      "source": [
        "\n",
        "class Dog(Animal):\n",
        "    def __init__(self, name, breed):\n",
        "      super().__init__(name, \"dog\")\n",
        "      self.breed = breed\n",
        "\n",
        "    def speak(self):\n",
        "       print(f\"{self.name} the {self.breed} dog says Woof!.\")\n"
      ],
      "metadata": {
        "id": "CxMFZPGNsfyF"
      },
      "execution_count": null,
      "outputs": []
    },
    {
      "cell_type": "markdown",
      "source": [
        "Q13"
      ],
      "metadata": {
        "id": "VJGAFodktfBN"
      }
    },
    {
      "cell_type": "code",
      "source": [
        "\n",
        "class Cat(Animal):\n",
        "  def __init__(self, name, species, color):\n",
        "     super().__init__(name, \"cat\")\n",
        "     self.color = color\n",
        "\n",
        "  def speak(self):\n",
        "      print(f\"{self.name} the {self.species} cat says Meow!.\")\n",
        "\n"
      ],
      "metadata": {
        "id": "7lsd_SG5tf60"
      },
      "execution_count": null,
      "outputs": []
    },
    {
      "cell_type": "markdown",
      "source": [
        "Q14"
      ],
      "metadata": {
        "id": "5kBk1HzkufuF"
      }
    },
    {
      "cell_type": "code",
      "source": [
        "cat1 = Cat(\"Adi\", \"persian\", \"black\")\n",
        "cat1.speak()\n",
        "dog1 = Dog(\"jack\", \"pitbull\",)\n",
        "dog1.speak()"
      ],
      "metadata": {
        "colab": {
          "base_uri": "https://localhost:8080/"
        },
        "id": "P1Oo9Kmyugnz",
        "outputId": "7733a182-7ff0-4948-a4c3-2eac5c841fdc"
      },
      "execution_count": null,
      "outputs": [
        {
          "output_type": "stream",
          "name": "stdout",
          "text": [
            "Adi the cat cat says Meow!.\n",
            "jack the pitbull dog says Woof!.\n"
          ]
        }
      ]
    }
  ]
}