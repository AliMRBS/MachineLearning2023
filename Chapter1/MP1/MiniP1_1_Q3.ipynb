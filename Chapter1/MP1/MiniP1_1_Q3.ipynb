{
  "nbformat": 4,
  "nbformat_minor": 0,
  "metadata": {
    "colab": {
      "provenance": []
    },
    "kernelspec": {
      "name": "python3",
      "display_name": "Python 3"
    },
    "language_info": {
      "name": "python"
    }
  },
  "cells": [
    {
      "cell_type": "markdown",
      "source": [
        "PART 3:\n"
      ],
      "metadata": {
        "id": "5MhcvsKdBVY7"
      }
    },
    {
      "cell_type": "markdown",
      "source": [
        "Q1:"
      ],
      "metadata": {
        "id": "ni5yxHWfBaFk"
      }
    },
    {
      "cell_type": "code",
      "source": [
        "import pandas as pd\n",
        "import numpy as np\n",
        "import matplotlib.pyplot as plt\n",
        "from sklearn.datasets import make_classification\n",
        "from sklearn.model_selection import train_test_split"
      ],
      "metadata": {
        "id": "zid6ISOkP1RR"
      },
      "execution_count": 1,
      "outputs": []
    },
    {
      "cell_type": "code",
      "source": [
        "#https://drive.google.com/file/d/1kYwlFgwVOVX-aGZO-rMltxuL_cjPrHQz/view?usp=sharing\n",
        "\n",
        "!pip install --upgrade --no-cache-dir gdown\n",
        "!gdown 1kYwlFgwVOVX-aGZO-rMltxuL_cjPrHQz"
      ],
      "metadata": {
        "colab": {
          "base_uri": "https://localhost:8080/"
        },
        "id": "t069SgwnFrva",
        "outputId": "e57441e8-6b3b-496c-e6f1-5c53d6817f5b"
      },
      "execution_count": 2,
      "outputs": [
        {
          "output_type": "stream",
          "name": "stdout",
          "text": [
            "Requirement already satisfied: gdown in /usr/local/lib/python3.10/dist-packages (4.6.6)\n",
            "Collecting gdown\n",
            "  Downloading gdown-4.7.1-py3-none-any.whl (15 kB)\n",
            "Requirement already satisfied: filelock in /usr/local/lib/python3.10/dist-packages (from gdown) (3.13.1)\n",
            "Requirement already satisfied: requests[socks] in /usr/local/lib/python3.10/dist-packages (from gdown) (2.31.0)\n",
            "Requirement already satisfied: six in /usr/local/lib/python3.10/dist-packages (from gdown) (1.16.0)\n",
            "Requirement already satisfied: tqdm in /usr/local/lib/python3.10/dist-packages (from gdown) (4.66.1)\n",
            "Requirement already satisfied: beautifulsoup4 in /usr/local/lib/python3.10/dist-packages (from gdown) (4.11.2)\n",
            "Requirement already satisfied: soupsieve>1.2 in /usr/local/lib/python3.10/dist-packages (from beautifulsoup4->gdown) (2.5)\n",
            "Requirement already satisfied: charset-normalizer<4,>=2 in /usr/local/lib/python3.10/dist-packages (from requests[socks]->gdown) (3.3.2)\n",
            "Requirement already satisfied: idna<4,>=2.5 in /usr/local/lib/python3.10/dist-packages (from requests[socks]->gdown) (3.4)\n",
            "Requirement already satisfied: urllib3<3,>=1.21.1 in /usr/local/lib/python3.10/dist-packages (from requests[socks]->gdown) (2.0.7)\n",
            "Requirement already satisfied: certifi>=2017.4.17 in /usr/local/lib/python3.10/dist-packages (from requests[socks]->gdown) (2023.7.22)\n",
            "Requirement already satisfied: PySocks!=1.5.7,>=1.5.6 in /usr/local/lib/python3.10/dist-packages (from requests[socks]->gdown) (1.7.1)\n",
            "Installing collected packages: gdown\n",
            "  Attempting uninstall: gdown\n",
            "    Found existing installation: gdown 4.6.6\n",
            "    Uninstalling gdown-4.6.6:\n",
            "      Successfully uninstalled gdown-4.6.6\n",
            "Successfully installed gdown-4.7.1\n",
            "Downloading...\n",
            "From: https://drive.google.com/uc?id=1kYwlFgwVOVX-aGZO-rMltxuL_cjPrHQz\n",
            "To: /content/heart_disease_health_indicators.csv\n",
            "100% 11.8M/11.8M [00:00<00:00, 39.6MB/s]\n"
          ]
        }
      ]
    },
    {
      "cell_type": "code",
      "source": [
        "df = pd.read_csv('/content/heart_disease_health_indicators.csv')"
      ],
      "metadata": {
        "id": "xBbIMhZdGCgK"
      },
      "execution_count": 3,
      "outputs": []
    },
    {
      "cell_type": "markdown",
      "source": [
        "Q2:"
      ],
      "metadata": {
        "id": "lh58cYIRG-0z"
      }
    },
    {
      "cell_type": "code",
      "source": [
        "X = df.iloc[:,1:21].values\n",
        "y = df[['HeartDiseaseorAttack']].values\n",
        "\n",
        "X.shape, y.shape"
      ],
      "metadata": {
        "colab": {
          "base_uri": "https://localhost:8080/"
        },
        "id": "yL4cHbsLHApS",
        "outputId": "85fa0404-a777-486e-f2c6-de97e82b3d05"
      },
      "execution_count": 4,
      "outputs": [
        {
          "output_type": "execute_result",
          "data": {
            "text/plain": [
              "((253661, 20), (253661, 1))"
            ]
          },
          "metadata": {},
          "execution_count": 4
        }
      ]
    },
    {
      "cell_type": "code",
      "source": [
        "# انتخاب نمونه‌های تصادفی از هر کلاس\n",
        "samples_class_0 = df[df['HeartDiseaseorAttack'] == 0].sample(n=100, random_state=13)\n",
        "samples_class_1 = df[df['HeartDiseaseorAttack'] == 1].sample(n=100, random_state=13)\n",
        "\n",
        "# ادغام داده‌های انتخاب شده\n",
        "df_sample = pd.concat([samples_class_0, samples_class_1])\n",
        "\n",
        "# مخلوط کردن 200 داده ادغام شده\n",
        "shuffled_df = df_sample.sample(frac=1, random_state=13).reset_index(drop=True)\n",
        "\n",
        "samples_class_0.shape, samples_class_1.shape, df_sample.shape ,shuffled_df.shape"
      ],
      "metadata": {
        "colab": {
          "base_uri": "https://localhost:8080/"
        },
        "id": "2BnBQmy-JSSS",
        "outputId": "b5079936-7795-4338-b904-10044c41b05f"
      },
      "execution_count": 5,
      "outputs": [
        {
          "output_type": "execute_result",
          "data": {
            "text/plain": [
              "((100, 22), (100, 22), (200, 22), (200, 22))"
            ]
          },
          "metadata": {},
          "execution_count": 5
        }
      ]
    },
    {
      "cell_type": "markdown",
      "source": [
        "Q3:"
      ],
      "metadata": {
        "id": "oyIiZtR3LO5a"
      }
    },
    {
      "cell_type": "code",
      "source": [
        "from sklearn.linear_model import LogisticRegression, SGDClassifier\n",
        "from sklearn.neural_network import MLPClassifier"
      ],
      "metadata": {
        "id": "WzRvqoyCLQ2x"
      },
      "execution_count": 6,
      "outputs": []
    },
    {
      "cell_type": "code",
      "source": [
        "from sklearn.metrics import log_loss\n",
        "from sklearn.metrics import log_loss"
      ],
      "metadata": {
        "id": "pBu8lfO6X-HX"
      },
      "execution_count": 7,
      "outputs": []
    },
    {
      "cell_type": "code",
      "source": [
        "x_train, x_test, y_train, y_test = train_test_split(X, y,random_state=13, test_size = 0.2)"
      ],
      "metadata": {
        "id": "k8aB9IDiLl7R"
      },
      "execution_count": 8,
      "outputs": []
    },
    {
      "cell_type": "code",
      "source": [
        "y_train_reshaped = np.ravel(y_train)\n",
        "y_test_reshaped = np.ravel(y_test)"
      ],
      "metadata": {
        "id": "yrcZZLIXPiLK"
      },
      "execution_count": 9,
      "outputs": []
    },
    {
      "cell_type": "code",
      "source": [
        "model1 = LogisticRegression(solver='sag', max_iter=300)\n",
        "model1.fit(x_train, y_train_reshaped)\n",
        "model1.predict(x_test)\n",
        "\n",
        "print(\"Accuracy of test data: %\", model1.score(x_test, y_test_reshaped)*100)\n",
        "print(\"Accuracy of train data: %\", model1.score(x_train, y_train_reshaped)*100)"
      ],
      "metadata": {
        "colab": {
          "base_uri": "https://localhost:8080/"
        },
        "id": "TGQLCDpRLtwB",
        "outputId": "b41f1c13-3efc-4fb5-e0d3-199d32a5708f"
      },
      "execution_count": 10,
      "outputs": [
        {
          "output_type": "stream",
          "name": "stdout",
          "text": [
            "Accuracy of test data: % 90.74763960341396\n",
            "Accuracy of train data: % 90.75435622486793\n"
          ]
        }
      ]
    },
    {
      "cell_type": "code",
      "source": [
        "model2 = SGDClassifier(loss='log_loss', random_state=13, max_iter=2000)\n",
        "model2.fit(x_train, y_train_reshaped)\n",
        "model2.predict(x_test)\n",
        "\n",
        "print(\"Accuracy of test data: %\", model2.score(x_test, y_test_reshaped)*100)\n",
        "print(\"Accuracy of train data: %\", model2.score(x_train, y_train_reshaped)*100)"
      ],
      "metadata": {
        "colab": {
          "base_uri": "https://localhost:8080/"
        },
        "id": "58lgq8n6SB_w",
        "outputId": "901132d7-e593-4b95-c801-52697bd2ea0d"
      },
      "execution_count": 11,
      "outputs": [
        {
          "output_type": "stream",
          "name": "stdout",
          "text": [
            "Accuracy of test data: % 90.72792856720477\n",
            "Accuracy of train data: % 90.7262674446109\n"
          ]
        }
      ]
    },
    {
      "cell_type": "markdown",
      "source": [
        "Q4:"
      ],
      "metadata": {
        "id": "shDhyLpFcep8"
      }
    },
    {
      "cell_type": "code",
      "source": [
        "from sklearn.metrics import log_loss"
      ],
      "metadata": {
        "id": "6OmriQK4a-rl"
      },
      "execution_count": 12,
      "outputs": []
    },
    {
      "cell_type": "code",
      "source": [
        "model = SGDClassifier(loss='log', random_state=83)\n",
        "losses = []\n",
        "epochs = 300\n",
        "\n",
        "for _ in range(epochs):\n",
        "\n",
        "    model.partial_fit(x_train, y_train_reshaped, [0, 1])\n",
        "    loss = log_loss(y_train , model.predict_proba(x_train))\n",
        "    losses.append(loss)\n",
        "\n",
        "plt.plot(losses)\n",
        "plt.xlabel('Epoch')\n",
        "plt.ylabel('Loss')\n",
        "plt.title('Loss Curve')\n",
        "plt.show()"
      ],
      "metadata": {
        "colab": {
          "base_uri": "https://localhost:8080/",
          "height": 507
        },
        "id": "h85sqrIbKcXW",
        "outputId": "73263829-da6b-4e53-f27d-95d9e19fc6ad"
      },
      "execution_count": 18,
      "outputs": [
        {
          "output_type": "stream",
          "name": "stderr",
          "text": [
            "/usr/local/lib/python3.10/dist-packages/sklearn/linear_model/_stochastic_gradient.py:163: FutureWarning: The loss 'log' was deprecated in v1.1 and will be removed in version 1.3. Use `loss='log_loss'` which is equivalent.\n",
            "  warnings.warn(\n"
          ]
        },
        {
          "output_type": "display_data",
          "data": {
            "text/plain": [
              "<Figure size 640x480 with 1 Axes>"
            ],
            "image/png": "[encoded data removed]"
          },
          "metadata": {}
        }
      ]
    },
    {
      "cell_type": "markdown",
      "source": [
        "Q5:"
      ],
      "metadata": {
        "id": "rPQfSdymjxta"
      }
    },
    {
      "cell_type": "code",
      "source": [
        "from sklearn.metrics import f1_score\n",
        "\n",
        "model2 = SGDClassifier(loss='log_loss', random_state=13, max_iter=2000)\n",
        "model2.fit(x_train, y_train_reshaped)\n",
        "y_pred = model2.predict(x_test)\n",
        "\n",
        "f1 = f1_score(y_test, y_pred)\n",
        "print(\"F1-Score on test data: \", f1)"
      ],
      "metadata": {
        "colab": {
          "base_uri": "https://localhost:8080/"
        },
        "id": "L1cJfDvmjznT",
        "outputId": "7bea07fe-1cfd-49a1-da8e-b96ced144f16"
      },
      "execution_count": null,
      "outputs": [
        {
          "output_type": "stream",
          "name": "stdout",
          "text": [
            "F1-Score on test data:  0.2112676056338028\n"
          ]
        }
      ]
    }
  ]
}