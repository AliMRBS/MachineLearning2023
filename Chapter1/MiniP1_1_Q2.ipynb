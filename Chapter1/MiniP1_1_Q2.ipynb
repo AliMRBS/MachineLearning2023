{
  "nbformat": 4,
  "nbformat_minor": 0,
  "metadata": {
    "colab": {
      "provenance": []
    },
    "kernelspec": {
      "name": "python3",
      "display_name": "Python 3"
    },
    "language_info": {
      "name": "python"
    }
  },
  "cells": [
    {
      "cell_type": "markdown",
      "source": [
        "PART 2:"
      ],
      "metadata": {
        "id": "vhS_D9QpPj9j"
      }
    },
    {
      "cell_type": "markdown",
      "source": [
        "Q1:"
      ],
      "metadata": {
        "id": "2lHU0If1Pn3R"
      }
    },
    {
      "cell_type": "code",
      "source": [
        "import pandas as pd\n",
        "import numpy as np\n",
        "import matplotlib.pyplot as plt\n",
        "from sklearn.datasets import make_classification"
      ],
      "metadata": {
        "id": "zid6ISOkP1RR"
      },
      "execution_count": null,
      "outputs": []
    },
    {
      "cell_type": "code",
      "execution_count": null,
      "metadata": {
        "colab": {
          "base_uri": "https://localhost:8080/"
        },
        "id": "rp1HdBeNPdVK",
        "outputId": "3a75ad14-c883-4e50-ed73-86fbe0322d1f"
      },
      "outputs": [
        {
          "output_type": "stream",
          "name": "stdout",
          "text": [
            "Requirement already satisfied: gdown in /usr/local/lib/python3.10/dist-packages (4.6.6)\n",
            "Collecting gdown\n",
            "  Downloading gdown-4.7.1-py3-none-any.whl (15 kB)\n",
            "Requirement already satisfied: filelock in /usr/local/lib/python3.10/dist-packages (from gdown) (3.13.1)\n",
            "Requirement already satisfied: requests[socks] in /usr/local/lib/python3.10/dist-packages (from gdown) (2.31.0)\n",
            "Requirement already satisfied: six in /usr/local/lib/python3.10/dist-packages (from gdown) (1.16.0)\n",
            "Requirement already satisfied: tqdm in /usr/local/lib/python3.10/dist-packages (from gdown) (4.66.1)\n",
            "Requirement already satisfied: beautifulsoup4 in /usr/local/lib/python3.10/dist-packages (from gdown) (4.11.2)\n",
            "Requirement already satisfied: soupsieve>1.2 in /usr/local/lib/python3.10/dist-packages (from beautifulsoup4->gdown) (2.5)\n",
            "Requirement already satisfied: charset-normalizer<4,>=2 in /usr/local/lib/python3.10/dist-packages (from requests[socks]->gdown) (3.3.2)\n",
            "Requirement already satisfied: idna<4,>=2.5 in /usr/local/lib/python3.10/dist-packages (from requests[socks]->gdown) (3.4)\n",
            "Requirement already satisfied: urllib3<3,>=1.21.1 in /usr/local/lib/python3.10/dist-packages (from requests[socks]->gdown) (2.0.7)\n",
            "Requirement already satisfied: certifi>=2017.4.17 in /usr/local/lib/python3.10/dist-packages (from requests[socks]->gdown) (2023.7.22)\n",
            "Requirement already satisfied: PySocks!=1.5.7,>=1.5.6 in /usr/local/lib/python3.10/dist-packages (from requests[socks]->gdown) (1.7.1)\n",
            "Installing collected packages: gdown\n",
            "  Attempting uninstall: gdown\n",
            "    Found existing installation: gdown 4.6.6\n",
            "    Uninstalling gdown-4.6.6:\n",
            "      Successfully uninstalled gdown-4.6.6\n",
            "Successfully installed gdown-4.7.1\n",
            "Downloading...\n",
            "From: https://drive.google.com/uc?id=116ho57xYxPgjTET5qOR30VLfwoxFAaI4\n",
            "To: /content/data_banknote_authentication.txt\n",
            "100% 46.4k/46.4k [00:00<00:00, 86.5MB/s]\n"
          ]
        }
      ],
      "source": [
        "#https://drive.google.com/file/d/116ho57xYxPgjTET5qOR30VLfwoxFAaI4/view?usp=sharing\n",
        "\n",
        "!pip install --upgrade --no-cache-dir gdown\n",
        "!gdown 116ho57xYxPgjTET5qOR30VLfwoxFAaI4"
      ]
    },
    {
      "cell_type": "code",
      "source": [
        "df = pd.read_csv('/content/data_banknote_authentication.txt', delimiter=',')\n",
        "df.to_csv('/content/data_banknote_authentication.csv', index=False)"
      ],
      "metadata": {
        "id": "_Pp4UxeJPtZI"
      },
      "execution_count": null,
      "outputs": []
    },
    {
      "cell_type": "markdown",
      "source": [
        "Q2:"
      ],
      "metadata": {
        "id": "NNhk-yluPv_h"
      }
    },
    {
      "cell_type": "code",
      "source": [
        "shuffled_df = df.sample(frac=1, random_state=13).reset_index(drop=True)"
      ],
      "metadata": {
        "id": "uuyvFDwiPuQy"
      },
      "execution_count": null,
      "outputs": []
    },
    {
      "cell_type": "code",
      "source": [
        "from sklearn.model_selection import train_test_split"
      ],
      "metadata": {
        "id": "OLTSO6lvRTAB"
      },
      "execution_count": null,
      "outputs": []
    },
    {
      "cell_type": "code",
      "source": [
        "X = shuffled_df[['Variance', 'Skewness', 'kurtosis', 'Entropy']].values\n",
        "y = shuffled_df[['Class ']].values"
      ],
      "metadata": {
        "id": "Yc8oXlkqRsD5"
      },
      "execution_count": null,
      "outputs": []
    },
    {
      "cell_type": "code",
      "source": [
        "x_train, x_test, y_train, y_test = train_test_split(X, y, random_state=13, test_size=0.2)\n",
        "x_train.shape, x_test.shape, y_train.shape, y_test.shape,"
      ],
      "metadata": {
        "colab": {
          "base_uri": "https://localhost:8080/"
        },
        "id": "cywYdUE3TW_g",
        "outputId": "95b2c0b4-166b-4dcd-c7f6-a51a2a40fe05"
      },
      "execution_count": null,
      "outputs": [
        {
          "output_type": "execute_result",
          "data": {
            "text/plain": [
              "((1097, 4), (275, 4), (1097, 1), (275, 1))"
            ]
          },
          "metadata": {},
          "execution_count": 9
        }
      ]
    },
    {
      "cell_type": "markdown",
      "source": [
        "Q3:"
      ],
      "metadata": {
        "id": "iHmIXKUmVPGQ"
      }
    },
    {
      "cell_type": "markdown",
      "source": [
        "Logistic Regression Model"
      ],
      "metadata": {
        "id": "rNw0SkZSkmJs"
      }
    },
    {
      "cell_type": "code",
      "source": [
        "def sigmoid(x):\n",
        "    return 1 / (1 + np.exp(-x))"
      ],
      "metadata": {
        "id": "KqiBXla7VOnh"
      },
      "execution_count": null,
      "outputs": []
    },
    {
      "cell_type": "code",
      "source": [
        "def logistic_regression(x, w):\n",
        "    y_hat = sigmoid(x @ w)\n",
        "    return y_hat"
      ],
      "metadata": {
        "id": "Jwzq2IFCVaGI"
      },
      "execution_count": null,
      "outputs": []
    },
    {
      "cell_type": "markdown",
      "source": [
        "Binary Cross Entropy(BCE)"
      ],
      "metadata": {
        "id": "asJb8bHNkuak"
      }
    },
    {
      "cell_type": "code",
      "source": [
        "def bce(y, y_hat):\n",
        "    loss = -(np.mean(y*np.log(y_hat) + (1-y)*np.log(1-y_hat)))\n",
        "    return loss"
      ],
      "metadata": {
        "id": "LEULEHc9Vzjo"
      },
      "execution_count": null,
      "outputs": []
    },
    {
      "cell_type": "markdown",
      "source": [
        "Gradient"
      ],
      "metadata": {
        "id": "Ie_DCC--k0-D"
      }
    },
    {
      "cell_type": "code",
      "source": [
        "def gradient(x, y, y_hat):\n",
        "    grads = (x.T @ (y_hat - y)) / len(y)\n",
        "    return grads"
      ],
      "metadata": {
        "id": "q7O-c8dvXVQQ"
      },
      "execution_count": null,
      "outputs": []
    },
    {
      "cell_type": "markdown",
      "source": [
        "Gradient Descent"
      ],
      "metadata": {
        "id": "garqNM60mM7T"
      }
    },
    {
      "cell_type": "code",
      "source": [
        "def gradient_descent(w, eta, grads):\n",
        "    w -= eta*grads\n",
        "    return w"
      ],
      "metadata": {
        "id": "6T3-xQcYYMAY"
      },
      "execution_count": null,
      "outputs": []
    },
    {
      "cell_type": "markdown",
      "source": [
        "Accuracy"
      ],
      "metadata": {
        "id": "aOQfVO0HmtJr"
      }
    },
    {
      "cell_type": "code",
      "source": [
        "def accuracy(y, y_hat):\n",
        "    acc = np.sum(y == np.round(y_hat)) / len(y)\n",
        "    return acc"
      ],
      "metadata": {
        "id": "ezZDTUsfYYKH"
      },
      "execution_count": null,
      "outputs": []
    },
    {
      "cell_type": "markdown",
      "source": [
        "Train"
      ],
      "metadata": {
        "id": "rNipH0H8ZZrX"
      }
    },
    {
      "cell_type": "code",
      "source": [
        "x_train = np.hstack((np.ones((len(x_train), 1)), x_train))\n",
        "x_train.shape"
      ],
      "metadata": {
        "colab": {
          "base_uri": "https://localhost:8080/"
        },
        "id": "03lQfRxIZbpH",
        "outputId": "a5ea6b67-3237-4032-c53c-b47ac6cc7d8c"
      },
      "execution_count": null,
      "outputs": [
        {
          "output_type": "execute_result",
          "data": {
            "text/plain": [
              "(1097, 5)"
            ]
          },
          "metadata": {},
          "execution_count": 16
        }
      ]
    },
    {
      "cell_type": "code",
      "source": [
        "m = 4\n",
        "w = np.random.randn(m+1, 1)\n",
        "print(w.shape)\n",
        "\n",
        "eta = 0.01\n",
        "n_epochs = 2000"
      ],
      "metadata": {
        "colab": {
          "base_uri": "https://localhost:8080/"
        },
        "id": "LOMyXZ_SZ0Nn",
        "outputId": "8c9e3aa7-3d70-48cc-e4ec-0ef485e1f9be"
      },
      "execution_count": null,
      "outputs": [
        {
          "output_type": "stream",
          "name": "stdout",
          "text": [
            "(5, 1)\n"
          ]
        }
      ]
    },
    {
      "cell_type": "markdown",
      "source": [
        "Error History"
      ],
      "metadata": {
        "id": "uHIDB8praRYP"
      }
    },
    {
      "cell_type": "code",
      "source": [
        "error_hist = []\n",
        "\n",
        "for epoch in range(n_epochs):\n",
        "    # predictions\n",
        "    y_hat = logistic_regression(x_train, w)\n",
        "\n",
        "    # loss\n",
        "    e = bce(y_train, y_hat)\n",
        "    error_hist.append(e)\n",
        "\n",
        "    # gradients\n",
        "    grads = gradient(x_train, y_train, y_hat)\n",
        "\n",
        "    # gradient decsent\n",
        "    w = gradient_descent(w, eta, grads)\n",
        "\n",
        "    if (epoch+1) % 100 == 0:\n",
        "        print(f'Epoch={epoch}, \\t E={e:,.4},\\t w+{w.T[0]}')"
      ],
      "metadata": {
        "colab": {
          "base_uri": "https://localhost:8080/"
        },
        "id": "HtbcG2HRaRA_",
        "outputId": "fe18a39e-8927-481f-a4b4-d2e3db42cf35"
      },
      "execution_count": null,
      "outputs": [
        {
          "output_type": "stream",
          "name": "stdout",
          "text": [
            "Epoch=99, \t E=0.7204,\t w+[-1.18287792 -0.00875558 -0.05345139  0.15424336 -0.09952306]\n",
            "Epoch=199, \t E=0.4101,\t w+[-1.02802797 -0.44194073 -0.17532291 -0.02765969 -0.26043686]\n",
            "Epoch=299, \t E=0.3169,\t w+[-0.887006   -0.64764281 -0.27260819 -0.1504256  -0.32786489]\n",
            "Epoch=399, \t E=0.2668,\t w+[-0.76057416 -0.78259553 -0.34614177 -0.24257835 -0.36690001]\n",
            "Epoch=499, \t E=0.234,\t w+[-0.64610335 -0.88246192 -0.40492406 -0.31662815 -0.39143318]\n",
            "Epoch=599, \t E=0.2103,\t w+[-0.54132352 -0.96123654 -0.45377676 -0.37873795 -0.40726597]\n",
            "Epoch=699, \t E=0.1919,\t w+[-0.44453415 -1.02594597 -0.49550075 -0.43231762 -0.41745131]\n",
            "Epoch=799, \t E=0.1772,\t w+[-0.35447168 -1.08063697 -0.53186337 -0.47945823 -0.42378154]\n",
            "Epoch=899, \t E=0.165,\t w+[-0.27017872 -1.12785684 -0.5640511  -0.52154508 -0.42738385]\n",
            "Epoch=999, \t E=0.1547,\t w+[-0.1909117  -1.16931322 -0.59289865 -0.55954989 -0.42900356]\n",
            "Epoch=1099, \t E=0.1459,\t w+[-0.11607927 -1.20620627 -0.61901499 -0.59418418 -0.42915311]\n",
            "Epoch=1199, \t E=0.1381,\t w+[-0.04520108 -1.239411   -0.64285754 -0.62598637 -0.42819622]\n",
            "Epoch=1299, \t E=0.1313,\t w+[ 0.02212027 -1.26958437 -0.66477832 -0.65537468 -0.42639784]\n",
            "Epoch=1399, \t E=0.1253,\t w+[ 0.08621879 -1.29723149 -0.68505379 -0.68268085 -0.42395525]\n",
            "Epoch=1499, \t E=0.1199,\t w+[ 0.14737895 -1.32274847 -0.70390494 -0.70817271 -0.42101799]\n",
            "Epoch=1599, \t E=0.115,\t w+[ 0.20584594 -1.34645107 -0.72151117 -0.73206976 -0.41770109]\n",
            "Epoch=1699, \t E=0.1106,\t w+[ 0.26183313 -1.36859453 -0.73802008 -0.75455422 -0.41409416]\n",
            "Epoch=1799, \t E=0.1066,\t w+[ 0.31552789 -1.38938764 -0.75355465 -0.77577908 -0.41026771]\n",
            "Epoch=1899, \t E=0.1029,\t w+[ 0.36709597 -1.40900296 -0.76821844 -0.79587411 -0.40627762]\n",
            "Epoch=1999, \t E=0.09951,\t w+[ 0.41668496 -1.42758438 -0.7820995  -0.81495035 -0.40216853]\n"
          ]
        }
      ]
    },
    {
      "cell_type": "markdown",
      "source": [
        "Plot Error"
      ],
      "metadata": {
        "id": "b9VbspF4pGMK"
      }
    },
    {
      "cell_type": "code",
      "source": [
        "plt.plot(error_hist)"
      ],
      "metadata": {
        "colab": {
          "base_uri": "https://localhost:8080/",
          "height": 447
        },
        "id": "_E8UDkdcb9Yf",
        "outputId": "6430098c-ad6a-4ece-eb95-3323269c6234"
      },
      "execution_count": null,
      "outputs": [
        {
          "output_type": "execute_result",
          "data": {
            "text/plain": [
              "[<matplotlib.lines.Line2D at 0x7d02e93719c0>]"
            ]
          },
          "metadata": {},
          "execution_count": 19
        },
        {
          "output_type": "display_data",
          "data": {
            "text/plain": [
              "<Figure size 640x480 with 1 Axes>"
            ],
            "image/png": "[encoded data removed]"
          },
          "metadata": {}
        }
      ]
    },
    {
      "cell_type": "markdown",
      "source": [
        "Test"
      ],
      "metadata": {
        "id": "3YIhRokmiORU"
      }
    },
    {
      "cell_type": "code",
      "source": [
        "x_test = np.hstack((np.ones((len(x_test), 1)), x_test))\n",
        "x_test.shape"
      ],
      "metadata": {
        "colab": {
          "base_uri": "https://localhost:8080/"
        },
        "id": "0wsOJrcOiPoE",
        "outputId": "f2dbfaf3-7b05-4f75-8dd4-63a79c92a3a5"
      },
      "execution_count": null,
      "outputs": [
        {
          "output_type": "execute_result",
          "data": {
            "text/plain": [
              "(275, 5)"
            ]
          },
          "metadata": {},
          "execution_count": 20
        }
      ]
    },
    {
      "cell_type": "code",
      "source": [
        "y_hat = logistic_regression(x_test, w)\n",
        "accuracy(y_test, y_hat)"
      ],
      "metadata": {
        "colab": {
          "base_uri": "https://localhost:8080/"
        },
        "id": "7frIOQx5jN6k",
        "outputId": "85be35b9-a648-48cf-bf56-ac045170eccd"
      },
      "execution_count": null,
      "outputs": [
        {
          "output_type": "execute_result",
          "data": {
            "text/plain": [
              "0.9781818181818182"
            ]
          },
          "metadata": {},
          "execution_count": 21
        }
      ]
    },
    {
      "cell_type": "markdown",
      "source": [
        "Q4 & Q5:"
      ],
      "metadata": {
        "id": "w7oVGxxOvVUI"
      }
    },
    {
      "cell_type": "code",
      "source": [
        "from sklearn.preprocessing import StandardScaler\n",
        "data2 = pd.read_csv('/content/data_banknote_authentication.csv')\n",
        "\n",
        "scaler = StandardScaler()\n",
        "\n",
        "scaled_data2 = scaler.fit_transform(data2)\n",
        "\n",
        "scaled_df2 = pd.DataFrame(scaled_data2, columns=data2.columns)\n",
        "\n",
        "shuffled_scaled_df2 = scaled_df2.sample(frac=1, random_state=13).reset_index(drop=True)\n",
        "\n",
        "X2 = shuffled_scaled_df2[['Variance', 'Skewness', 'kurtosis', 'Entropy']].values\n",
        "y2 = shuffled_scaled_df2[['Class ']].values\n",
        "\n",
        "x_train2, x_test2, y_train2, y_test2 = train_test_split(X2, y2, test_size=0.2)\n",
        "\n",
        "x_train2 = np.hstack((np.ones((len(x_train2), 1)), x_train2))\n",
        "\n",
        "m_new = 4\n",
        "w_new = np.random.randn(m_new+1, 1)\n",
        "print(w_new.shape)\n",
        "\n",
        "eta_new = 0.01\n",
        "n_epochs_new = 2000\n"
      ],
      "metadata": {
        "colab": {
          "base_uri": "https://localhost:8080/"
        },
        "id": "b1JfbUAGvVIp",
        "outputId": "c0d371d0-69a6-450c-c03a-69feed90c901"
      },
      "execution_count": null,
      "outputs": [
        {
          "output_type": "stream",
          "name": "stdout",
          "text": [
            "(5, 1)\n"
          ]
        }
      ]
    },
    {
      "cell_type": "code",
      "source": [
        "error_hist_new = []\n",
        "\n",
        "for epoch_new in range(n_epochs_new):\n",
        "    # predictions\n",
        "    y_hat2 = logistic_regression(x_train2, w_new)\n",
        "\n",
        "    # loss\n",
        "    e_new = bce(y_train2, y_hat2)\n",
        "    error_hist_new.append(e_new)\n",
        "\n",
        "    # gradients\n",
        "    grads_new = gradient(x_train2, y_train2, y_hat2)\n",
        "\n",
        "    # gradient decsent\n",
        "    w_new = gradient_descent(w_new, eta_new, grads_new)\n",
        "\n",
        "    if (epoch_new+1) % 100 == 0:\n",
        "        print(f'Epoch={epoch_new}, \\t E={e_new:,.4},\\t w={w_new.T[0]}')"
      ],
      "metadata": {
        "colab": {
          "base_uri": "https://localhost:8080/"
        },
        "id": "rhuZU8LGyfEi",
        "outputId": "27136d6d-1909-46f0-d920-73860300ab88"
      },
      "execution_count": null,
      "outputs": [
        {
          "output_type": "stream",
          "name": "stdout",
          "text": [
            "Epoch=99, \t E=-0.4226,\t w=[-0.57314736 -1.38318773 -0.86605683 -0.16548273 -1.60286629]\n",
            "Epoch=199, \t E=-0.9304,\t w=[-0.95083483 -1.80615511 -1.24665062 -0.10250569 -1.41498312]\n",
            "Epoch=299, \t E=-1.346,\t w=[-1.30422139 -2.20766675 -1.57616681 -0.08124328 -1.27425782]\n",
            "Epoch=399, \t E=-1.715,\t w=[-1.64023226 -2.6015198  -1.8751113  -0.08355913 -1.169603  ]\n",
            "Epoch=499, \t E=-2.056,\t w=[-1.96308821 -2.99224974 -2.15379192 -0.10072693 -1.09334163]\n",
            "Epoch=599, \t E=-2.38,\t w=[-2.27633051 -3.38130202 -2.41890778 -0.12741488 -1.03827896]\n",
            "Epoch=699, \t E=-2.692,\t w=[-2.58274542 -3.76909229 -2.67502748 -0.1601969  -0.9984198 ]\n",
            "Epoch=799, \t E=-2.998,\t w=[-2.88433267 -4.15574404 -2.92518566 -0.19690395 -0.96933124]\n",
            "Epoch=899, \t E=-3.298,\t w=[-3.18246848 -4.54132431 -3.17136285 -0.23617592 -0.94791317]\n",
            "Epoch=999, \t E=-3.594,\t w=[-3.47809278 -4.92590337 -3.41485039 -0.27715694 -0.93203071]\n",
            "Epoch=1099, \t E=-3.888,\t w=[-3.77185332 -5.30956178 -3.65649744 -0.3193021  -0.92020809]\n",
            "Epoch=1199, \t E=-4.18,\t w=[-4.06420342 -5.69238539 -3.89686951 -0.36225893 -0.91141299]\n",
            "Epoch=1299, \t E=-4.47,\t w=[-4.3554659  -6.07445962 -4.13634857 -0.40579526 -0.90491268]\n",
            "Epoch=1399, \t E=-4.759,\t w=[-4.64587453 -6.45586558 -4.37519641 -0.44975505 -0.9001791 ]\n",
            "Epoch=1499, \t E=-5.047,\t w=[-4.93560135 -6.83667792 -4.61359504 -0.4940311  -0.89682604]\n",
            "Epoch=1599, \t E=-5.333,\t w=[-5.22477481 -7.21696395 -4.85167285 -0.53854805 -0.89456698]\n",
            "Epoch=1699, \t E=-5.62,\t w=[-5.51349215 -7.59678358 -5.08952167 -0.58325158 -0.89318643]\n",
            "Epoch=1799, \t E=-5.905,\t w=[-5.80182795 -7.97618967 -5.32720813 -0.62810156 -0.8925202 ]\n",
            "Epoch=1899, \t E=-6.19,\t w=[-6.08984013 -8.35522864 -5.56478118 -0.67306759 -0.89244156]\n",
            "Epoch=1999, \t E=-6.475,\t w=[-6.37757416 -8.73394112 -5.80227727 -0.71812614 -0.89285153]\n"
          ]
        }
      ]
    },
    {
      "cell_type": "code",
      "source": [
        "plt.plot(error_hist_new)"
      ],
      "metadata": {
        "colab": {
          "base_uri": "https://localhost:8080/",
          "height": 447
        },
        "id": "ZMq9BoywzUUZ",
        "outputId": "53f5d7b6-f7e6-4bfd-a8a4-a02b7c3ec078"
      },
      "execution_count": null,
      "outputs": [
        {
          "output_type": "execute_result",
          "data": {
            "text/plain": [
              "[<matplotlib.lines.Line2D at 0x7d02e92b4d00>]"
            ]
          },
          "metadata": {},
          "execution_count": 24
        },
        {
          "output_type": "display_data",
          "data": {
            "text/plain": [
              "<Figure size 640x480 with 1 Axes>"
            ],
            "image/png": "[encoded data removed]"
          },
          "metadata": {}
        }
      ]
    },
    {
      "cell_type": "code",
      "source": [
        "x_test2 = np.hstack((np.ones((len(x_test2), 1)), x_test2))\n",
        "\n",
        "y_hat2 = logistic_regression(x_test2, w_new)\n",
        "accuracy(y_test2, y_hat2)"
      ],
      "metadata": {
        "colab": {
          "base_uri": "https://localhost:8080/"
        },
        "id": "bUxH73Wqzi8I",
        "outputId": "73dfbab9-c51d-435c-a1b9-ef22dc999d21"
      },
      "execution_count": null,
      "outputs": [
        {
          "output_type": "execute_result",
          "data": {
            "text/plain": [
              "0.0"
            ]
          },
          "metadata": {},
          "execution_count": 25
        }
      ]
    },
    {
      "cell_type": "code",
      "source": [
        "for i in range(5):\n",
        "    print(f\"data {i+1}: y_hat2 = {y_hat2[i]}, y2= {y2[i]}\")"
      ],
      "metadata": {
        "colab": {
          "base_uri": "https://localhost:8080/"
        },
        "id": "IfHDVxXh2Qcw",
        "outputId": "263568d3-5877-47e9-c7f1-271b8bbcb02a"
      },
      "execution_count": null,
      "outputs": [
        {
          "output_type": "stream",
          "name": "stdout",
          "text": [
            "data 1: y_hat2 = [0.00987633], y2= [-0.89472059]\n",
            "data 2: y_hat2 = [0.90525878], y2= [1.11766736]\n",
            "data 3: y_hat2 = [1.], y2= [-0.89472059]\n",
            "data 4: y_hat2 = [0.2883632], y2= [-0.89472059]\n",
            "data 5: y_hat2 = [3.0865357e-05], y2= [-0.89472059]\n"
          ]
        }
      ]
    },
    {
      "cell_type": "markdown",
      "source": [
        "Q6:"
      ],
      "metadata": {
        "id": "EVu92hJz4j-O"
      }
    },
    {
      "cell_type": "code",
      "source": [
        "# محاسبه تعداد نمونه‌های هر کلاس\n",
        "y_counts = df[['Class ']].value_counts()\n",
        "# نمایش نمودار دایره‌ای\n",
        "labels = ['Class 0', 'Class 1']\n",
        "plt.pie(y_counts, labels=labels, autopct='%1.1f%%')\n",
        "plt.axis('equal')  # این دستور برای اینه که دایره ما کامل باشد!\n",
        "\n",
        "# افزودن تعداد داده‌های هر کلاس به صورت مستقیم بر روی نمودار\n",
        "for i, count in enumerate(y_counts):\n",
        "    plt.text(x=-0.92, y=-0.9 - i * 0.15, s=f'{labels[i]}: {count}', ha='center', fontsize=12)\n",
        "\n",
        "plt.show()"
      ],
      "metadata": {
        "colab": {
          "base_uri": "https://localhost:8080/",
          "height": 415
        },
        "id": "bwYr_6rc4mlW",
        "outputId": "bb33bfbb-0866-4d5d-e133-0ae3dfde3560"
      },
      "execution_count": null,
      "outputs": [
        {
          "output_type": "display_data",
          "data": {
            "text/plain": [
              "<Figure size 640x480 with 1 Axes>"
            ],
            "image/png": "[encoded data removed]"
          },
          "metadata": {}
        }
      ]
    },
    {
      "cell_type": "code",
      "source": [
        "! pip install -U imbalanced-learn"
      ],
      "metadata": {
        "colab": {
          "base_uri": "https://localhost:8080/"
        },
        "id": "urpd3_vsHK9-",
        "outputId": "480374bb-57bf-40e9-933c-5809863e0969"
      },
      "execution_count": null,
      "outputs": [
        {
          "output_type": "stream",
          "name": "stdout",
          "text": [
            "Requirement already satisfied: imbalanced-learn in /usr/local/lib/python3.10/dist-packages (0.10.1)\n",
            "Collecting imbalanced-learn\n",
            "  Downloading imbalanced_learn-0.11.0-py3-none-any.whl (235 kB)\n",
            "\u001b[2K     \u001b[90m━━━━━━━━━━━━━━━━━━━━━━━━━━━━━━━━━━━━━━━━\u001b[0m \u001b[32m235.6/235.6 kB\u001b[0m \u001b[31m4.3 MB/s\u001b[0m eta \u001b[36m0:00:00\u001b[0m\n",
            "\u001b[?25hRequirement already satisfied: numpy>=1.17.3 in /usr/local/lib/python3.10/dist-packages (from imbalanced-learn) (1.23.5)\n",
            "Requirement already satisfied: scipy>=1.5.0 in /usr/local/lib/python3.10/dist-packages (from imbalanced-learn) (1.11.3)\n",
            "Requirement already satisfied: scikit-learn>=1.0.2 in /usr/local/lib/python3.10/dist-packages (from imbalanced-learn) (1.2.2)\n",
            "Requirement already satisfied: joblib>=1.1.1 in /usr/local/lib/python3.10/dist-packages (from imbalanced-learn) (1.3.2)\n",
            "Requirement already satisfied: threadpoolctl>=2.0.0 in /usr/local/lib/python3.10/dist-packages (from imbalanced-learn) (3.2.0)\n",
            "Installing collected packages: imbalanced-learn\n",
            "  Attempting uninstall: imbalanced-learn\n",
            "    Found existing installation: imbalanced-learn 0.10.1\n",
            "    Uninstalling imbalanced-learn-0.10.1:\n",
            "      Successfully uninstalled imbalanced-learn-0.10.1\n",
            "Successfully installed imbalanced-learn-0.11.0\n"
          ]
        }
      ]
    },
    {
      "cell_type": "code",
      "source": [
        "# undersampling :\n",
        "from imblearn.under_sampling import RandomUnderSampler\n",
        "\n",
        "y = pd.DataFrame(y, columns=[''])\n",
        "rus = RandomUnderSampler(sampling_strategy=1)\n",
        "x_res_undersampling , y_res_undersampling = rus.fit_resample(X , y)\n",
        "ax = y_res_undersampling.value_counts().plot.pie(autopct = '%.2f')\n"
      ],
      "metadata": {
        "colab": {
          "base_uri": "https://localhost:8080/",
          "height": 406
        },
        "id": "3L9vEyK6HRPG",
        "outputId": "d528be15-11e5-440a-923d-0601fbc921b0"
      },
      "execution_count": null,
      "outputs": [
        {
          "output_type": "display_data",
          "data": {
            "text/plain": [
              "<Figure size 640x480 with 1 Axes>"
            ],
            "image/png": "[encoded data removed]"
          },
          "metadata": {}
        }
      ]
    },
    {
      "cell_type": "markdown",
      "source": [
        "Q7:"
      ],
      "metadata": {
        "id": "jTZ3oUFR-vS2"
      }
    },
    {
      "cell_type": "code",
      "source": [
        "from sklearn.linear_model import LogisticRegression\n",
        "\n",
        "X3 = shuffled_df[['Variance', 'Skewness', 'kurtosis', 'Entropy']].values\n",
        "y3 = shuffled_df[['Class ']].values\n",
        "\n",
        "x_train3, x_test3, y_train3, y_test3 = train_test_split(X3, y3, random_state=13, stratify=y3, test_size=0.2)\n",
        "\n",
        "model = LogisticRegression(solver='sag', max_iter=210)\n",
        "model.fit(x_train3, y_train3)\n",
        "model.predict(x_test3)\n",
        "\n",
        "print(\"Accuracy of test data: %\", model.score(x_test3, y_test3)*100)\n",
        "print(\"Accuracy of train data: %\", model.score(x_train3, y_train3)*100)"
      ],
      "metadata": {
        "colab": {
          "base_uri": "https://localhost:8080/"
        },
        "id": "o3vTL0ig-wpk",
        "outputId": "7ca5dc91-04d1-423a-d73a-935c56e0b4dc"
      },
      "execution_count": null,
      "outputs": [
        {
          "output_type": "stream",
          "name": "stdout",
          "text": [
            "Accuracy of test data: % 99.27272727272727\n",
            "Accuracy of train data: % 98.99726526891523\n"
          ]
        },
        {
          "output_type": "stream",
          "name": "stderr",
          "text": [
            "/usr/local/lib/python3.10/dist-packages/sklearn/utils/validation.py:1143: DataConversionWarning: A column-vector y was passed when a 1d array was expected. Please change the shape of y to (n_samples, ), for example using ravel().\n",
            "  y = column_or_1d(y, warn=True)\n"
          ]
        }
      ]
    }
  ]
}